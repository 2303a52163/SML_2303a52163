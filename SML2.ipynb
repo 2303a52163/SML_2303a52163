{
  "nbformat": 4,
  "nbformat_minor": 0,
  "metadata": {
    "colab": {
      "provenance": [],
      "authorship_tag": "ABX9TyM0XlK8RhPMkRKb/BK3SY00",
      "include_colab_link": true
    },
    "kernelspec": {
      "name": "python3",
      "display_name": "Python 3"
    },
    "language_info": {
      "name": "python"
    }
  },
  "cells": [
    {
      "cell_type": "markdown",
      "metadata": {
        "id": "view-in-github",
        "colab_type": "text"
      },
      "source": [
        "<a href=\"https://colab.research.google.com/github/2303a52163/SML_2303a52163/blob/main/SML2.ipynb\" target=\"_parent\"><img src=\"https://colab.research.google.com/assets/colab-badge.svg\" alt=\"Open In Colab\"/></a>"
      ]
    },
    {
      "cell_type": "markdown",
      "source": [
        "               **STML ASSIGNMENT-2**\n",
        "\n",
        "\n",
        "  \n",
        "**Course Name:  Statistical Machine Learning**  \n",
        "\n",
        "**Resources:    Google Colab**\n",
        "\n",
        "**Name:         U.Maheesh Varma**\n",
        "\n",
        "**RollNo:       2303A52163**\n",
        "\n",
        "**Batch:        34**\n"
      ],
      "metadata": {
        "id": "CtBb7d5JwGK_"
      }
    },
    {
      "cell_type": "markdown",
      "source": [
        "**1.Give the following dataset x:{1.3,1.5,2.6,2.6,3.2,3.9,4.2,3.7,3.10,3.0,11,6.7,1.9}**\n",
        "**Compute the density of the data using a histogram with 5 bins.**  "
      ],
      "metadata": {
        "id": "jzX5RhFmx4-d"
      }
    },
    {
      "cell_type": "code",
      "source": [
        "import numpy as np\n",
        "import pandas as pd\n",
        "import matplotlib.pyplot as plt\n",
        "x=[1.3,1.5,2.6,2.6,3.2,3.9,4.2,3.7,3.10,3.0,11,6.7,1.9]\n",
        "x"
      ],
      "metadata": {
        "colab": {
          "base_uri": "https://localhost:8080/"
        },
        "id": "pYTGHMkuw25o",
        "outputId": "e19017e3-4fc5-42f9-9261-7c2a000b7c2d"
      },
      "execution_count": null,
      "outputs": [
        {
          "output_type": "execute_result",
          "data": {
            "text/plain": [
              "[1.3, 1.5, 2.6, 2.6, 3.2, 3.9, 4.2, 3.7, 3.1, 3.0, 11, 6.7, 1.9]"
            ]
          },
          "metadata": {},
          "execution_count": 1
        }
      ]
    },
    {
      "cell_type": "code",
      "source": [
        "plt.hist(x,bins=5,edgecolor=\"blue\")\n",
        "plt.show()"
      ],
      "metadata": {
        "colab": {
          "base_uri": "https://localhost:8080/"
        },
        "id": "a_oVUTfuxXgn",
        "outputId": "808e0d6b-76c7-4915-bdc0-e09d888424c4"
      },
      "execution_count": null,
      "outputs": [
        {
          "output_type": "display_data",
          "data": {
            "text/plain": [
              "<Figure size 640x480 with 1 Axes>"
            ],
            "image/png": "[encoded data removed]"
          },
          "metadata": {}
        }
      ]
    },
    {
      "cell_type": "markdown",
      "source": [
        "**2.Find Mean, Median, Mode,Variance,Standard deviation, Range,Interquartile** **Range (IQR), Skewness ,Kurtosis of x and y**.\n",
        "\n",
        "**1.Dependent variables:12, 13, 56, 23, 41, 28, 51**.\n",
        "\n",
        "**2.Independent variables:51, 63, 37, 88, 33, 72, 81**."
      ],
      "metadata": {
        "id": "YJCC3ohbzF1-"
      }
    },
    {
      "cell_type": "code",
      "source": [
        "import numpy as np\n",
        "from scipy import stats\n",
        "\n",
        "x = [12, 13, 56, 23, 41, 28, 51]\n",
        "y = [51, 63, 37, 88, 33, 72, 81]\n",
        "\n",
        "def mean(data):\n",
        "    return np.mean(data)\n",
        "\n",
        "def median(data):\n",
        "    return np.median(data)\n",
        "\n",
        "def mode(data):\n",
        "    return stats.mode(data)\n",
        "\n",
        "def variance(data):\n",
        "    return np.var(data)\n",
        "\n",
        "\n",
        "def stddev(data):\n",
        "    return np.std(data)\n",
        "\n",
        "def range(data):\n",
        "    return max(data) - min(data)\n",
        "\n",
        "def iqr(data):\n",
        "    q1, q3 = np.percentile(data, [25, 75])\n",
        "    return q3 - q1\n",
        "\n",
        "def skewness(data):\n",
        "    return stats.skew(data)\n",
        "\n",
        "def kurtosis(data):\n",
        "    return stats.kurtosis(data)\n",
        "\n",
        "print(\"Statistics for x:\")\n",
        "print(\"Mean:\", mean(x))\n",
        "print(\"Median:\", median(x))\n",
        "print(\"Mode:\", mode(x))\n",
        "print(\"Variance:\", variance(x))\n",
        "print(\"Standard deviation:\", stddev(x))\n",
        "print(\"Range:\", range(x))\n",
        "print(\"Interquartile range (IQR):\", iqr(x))\n",
        "print(\"Skewness:\", skewness(x))\n",
        "print(\"Kurtosis:\", kurtosis(x))\n",
        "\n",
        "print(\"\\nStatistics for y:\")\n",
        "print(\"Mean:\", mean(y))\n",
        "print(\"Median:\", median(y))\n",
        "print(\"Mode:\", mode(y))\n",
        "print(\"Variance:\", variance(y))\n",
        "print(\"Standard deviation:\", stddev(y))\n",
        "print(\"Range:\", range(y))\n",
        "print(\"Interquartile range (IQR):\", iqr(y))\n",
        "print(\"Skewness:\", skewness(y))\n",
        "print(\"Kurtosis:\", kurtosis(y))"
      ],
      "metadata": {
        "colab": {
          "base_uri": "https://localhost:8080/"
        },
        "id": "oiDYitYKzGlG",
        "outputId": "b3761786-02f4-4785-b777-f3b29e1fad99"
      },
      "execution_count": null,
      "outputs": [
        {
          "output_type": "stream",
          "name": "stdout",
          "text": [
            "Statistics for x:\n",
            "Mean: 32.0\n",
            "Median: 28.0\n",
            "Mode: ModeResult(mode=12, count=1)\n",
            "Variance: 268.0\n",
            "Standard deviation: 16.3707055437449\n",
            "Range: 44\n",
            "Interquartile range (IQR): 28.0\n",
            "Skewness: 0.18755223867066048\n",
            "Kurtosis: -1.47684021258314\n",
            "\n",
            "Statistics for y:\n",
            "Mean: 60.714285714285715\n",
            "Median: 63.0\n",
            "Mode: ModeResult(mode=33, count=1)\n",
            "Variance: 387.6326530612245\n",
            "Standard deviation: 19.68838878784205\n",
            "Range: 55\n",
            "Interquartile range (IQR): 32.5\n",
            "Skewness: -0.10160487226954186\n",
            "Kurtosis: -1.4265295827972655\n"
          ]
        }
      ]
    },
    {
      "cell_type": "markdown",
      "source": [
        "**3.From the above data Find Mean,Median,Mode, Variance, Standard deviation **\n",
        "**Range,Interquartile Range (IQR),  Skewness ,Kurtosis of each feature.?**"
      ],
      "metadata": {
        "id": "6MEolYGG2BWj"
      }
    },
    {
      "cell_type": "code",
      "source": [
        "import pandas as pd\n",
        "from scipy.stats import skew, kurtosis\n",
        "Y = [7,8,9,5,9]\n",
        "X_independent =[8,5,5,7,2]\n",
        "XY_df = pd.DataFrame({'Y': Y, 'X': X_independent})\n",
        "XY_stats = XY_df.describe().T\n",
        "XY_stats['IQR'] = XY_stats['75%'] - XY_stats ['25%']\n",
        "XY_stats['Skewness'] = XY_df.apply(lambda x: skew(x), axis=0)\n",
        "XY_stats['Kurtosis'] = XY_df.apply(lambda x: kurtosis(x), axis=0)\n",
        "print(\"\\nStatistical measures for the features in the given table:\")\n",
        "print(XY_stats)"
      ],
      "metadata": {
        "colab": {
          "base_uri": "https://localhost:8080/"
        },
        "id": "DiHGUfLA2DhY",
        "outputId": "6706901c-ff0e-42b1-f0ca-7ebea278bcf0"
      },
      "execution_count": null,
      "outputs": [
        {
          "output_type": "stream",
          "name": "stdout",
          "text": [
            "\n",
            "Statistical measures for the features in the given table:\n",
            "   count  mean       std  min  25%  50%  75%  max  IQR  Skewness  Kurtosis\n",
            "Y    5.0   7.6  1.673320  5.0  7.0  8.0  9.0  9.0  2.0 -0.730196 -0.866071\n",
            "X    5.0   5.4  2.302173  2.0  5.0  5.0  7.0  8.0  2.0 -0.406840 -0.931470\n"
          ]
        }
      ]
    },
    {
      "cell_type": "markdown",
      "source": [],
      "metadata": {
        "id": "tx8_0jfY16F9"
      }
    }
  ]
}